{
 "cells": [
  {
   "cell_type": "code",
   "execution_count": 13,
   "id": "54feab78",
   "metadata": {
    "scrolled": true
   },
   "outputs": [
    {
     "name": "stdout",
     "output_type": "stream",
     "text": [
      "BPP Pizza Price Calculator\n",
      "==============================\n",
      "How many pizzas ordered? 15\n",
      "Is delivery required? (Y/N) u\n",
      "Please enter 'Y' for Yes or 'N' for No.\n",
      "Is delivery required? (Y/N) u\n",
      "Please enter 'Y' for Yes or 'N' for No.\n",
      "Is delivery required? (Y/N) n\n",
      "Is it Tuesday? (Y/N) n\n",
      "Did the customer use the app? (Y/N) n\n",
      "\n",
      "Total Price: £180.0\n"
     ]
    }
   ],
   "source": [
    "# use of the function: To check if the user input Y or N and to correct them if user is wrong\n",
    "def get_yes_no_input(prompt):\n",
    "    while True:\n",
    "        res = input(prompt).strip().lower()  \n",
    "        if res == 'y' or res == 'n':\n",
    "            return res\n",
    "        else:\n",
    "            print(\"Please enter 'Y' for Yes or 'N' for No.\")\n",
    "\n",
    "# use of the function: this is the function where we assign the retes and work on the condition\n",
    "def calculate_pizza_price(its_tuesday, num_pizzas, is_delivery, is_app_order):\n",
    "    Pizza_Cost = 12.00\n",
    "    Delivery_Cost = 2.50\n",
    "    Discount_Tuesday = 0.50\n",
    "    Discount_App_Order = 0.25\n",
    "\n",
    "    # Condition: Tuesday discount\n",
    "    if its_tuesday == 'y': \n",
    "        total_cost = num_pizzas * (Pizza_Cost * (1 - Discount_Tuesday))\n",
    "    else:\n",
    "        total_cost = num_pizzas * Pizza_Cost\n",
    "\n",
    "    # Condition: Delivery is required                                                                            \n",
    "    if is_delivery:\n",
    "        # Condition: Free Delivery \n",
    "        if num_pizzas >= 5:\n",
    "            total_cost += Delivery_Cost * (1 - Discount_App_Order)\n",
    "        else:\n",
    "            total_cost += Delivery_Cost\n",
    "\n",
    "    # Condition: App order \n",
    "    if is_app_order:\n",
    "        total_cost *= (1 - Discount_App_Order)\n",
    "\n",
    "    return round(total_cost, 2)\n",
    "\n",
    "#use of the function: This is where we call all the necessary fucntions we have defined earlier \n",
    "def main():\n",
    "    print(\"BPP Pizza Price Calculator\")\n",
    "    print(\"=\" * 30 )\n",
    "\n",
    "    while True:\n",
    "        try:\n",
    "            num_pizzas = int(input(\"How many pizzas ordered? \"))\n",
    "            if num_pizzas <= 0:\n",
    "                raise ValueError(\"Please enter a positive integer!\")\n",
    "\n",
    "            is_delivery = get_yes_no_input(\"Is delivery required? (Y/N) \") == 'y'\n",
    "            its_tuesday = get_yes_no_input(\"Is it Tuesday? (Y/N) \") =='y' \n",
    "            is_app_order = get_yes_no_input(\"Did the customer use the app? (Y/N) \") == 'y'\n",
    "\n",
    "            total_price = calculate_pizza_price(its_tuesday, num_pizzas, is_delivery, is_app_order)\n",
    "            print(f\"\\nTotal Price: £{total_price}\")\n",
    "            break\n",
    "\n",
    "        except ValueError as e:\n",
    "            print(f\"{e}\\nPlease enter a valid input.\")\n",
    "\n",
    "if __name__ == \"__main__\":\n",
    "    main()\n"
   ]
  },
  {
   "cell_type": "code",
   "execution_count": null,
   "id": "cb435148",
   "metadata": {},
   "outputs": [],
   "source": []
  }
 ],
 "metadata": {
  "kernelspec": {
   "display_name": "Python 3 (ipykernel)",
   "language": "python",
   "name": "python3"
  },
  "language_info": {
   "codemirror_mode": {
    "name": "ipython",
    "version": 3
   },
   "file_extension": ".py",
   "mimetype": "text/x-python",
   "name": "python",
   "nbconvert_exporter": "python",
   "pygments_lexer": "ipython3",
   "version": "3.11.5"
  }
 },
 "nbformat": 4,
 "nbformat_minor": 5
}
